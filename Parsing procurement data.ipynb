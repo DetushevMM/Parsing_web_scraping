{
 "cells": [
  {
   "cell_type": "markdown",
   "metadata": {},
   "source": [
    "Задача:\n",
    "\n",
    "Выполнить парсинг двух страниц с сайта https://zakupki.gov.ru/ по каждой закупке спарсить номер закупки, дату размещения, обновления и окончание подачи заявок, начальную цену контракта. Данные сохранить в pandas датафрейм и в формат csv."
   ]
  },
  {
   "cell_type": "code",
   "execution_count": 11,
   "metadata": {},
   "outputs": [],
   "source": [
    "import requests\n",
    "from bs4 import BeautifulSoup\n",
    "import pandas as pd"
   ]
  },
  {
   "cell_type": "code",
   "execution_count": 12,
   "metadata": {},
   "outputs": [],
   "source": [
    "def get_tenders_from_page(url):\n",
    "    response = requests.get(url, headers={\"User-Agent\": \"Mozilla/5.0\"})\n",
    "    if response.status_code != 200:\n",
    "        print(f\"Ошибка при получении страницы {url}\")\n",
    "        return []\n",
    "    \n",
    "    soup = BeautifulSoup(response.text, 'html.parser')\n",
    "    tenders = []\n",
    "    \n",
    "    for row in soup.select('.search-registry-entry-block'):  # Класс может изменяться\n",
    "        try:\n",
    "            tender_number = row.select_one('.registry-entry__header-mid__number a')\n",
    "            placement_date = row.select_one('.data-block__value')\n",
    "            update_date_elements = row.select('.data-block__value')\n",
    "            price = row.select_one('.price-block__value')\n",
    "            \n",
    "            if tender_number and placement_date and price and len(update_date_elements) >= 3:\n",
    "                tenders.append({\n",
    "                    \"Номер закупки\": tender_number.text.strip(),\n",
    "                    \"Дата размещения\": placement_date.text.strip(),\n",
    "                    \"Дата обновления\": update_date_elements[1].text.strip(),\n",
    "                    \"Окончание подачи заявок\": update_date_elements[2].text.strip(),\n",
    "                    \"Начальная цена\": price.text.strip()\n",
    "                })\n",
    "        except AttributeError:\n",
    "            continue\n",
    "    \n",
    "    return tenders"
   ]
  },
  {
   "cell_type": "code",
   "execution_count": 13,
   "metadata": {},
   "outputs": [],
   "source": [
    "# Задаем ссылки на две страницы\n",
    "urls = [\n",
    "    \"https://zakupki.gov.ru/epz/order/extendedsearch/results.html?morphology=on\",\n",
    "    \"https://zakupki.gov.ru/epz/order/extendedsearch/results.html?morphology=on&page=2\"\n",
    "]"
   ]
  },
  {
   "cell_type": "code",
   "execution_count": 14,
   "metadata": {},
   "outputs": [],
   "source": [
    "data = []\n",
    "for url in urls:\n",
    "    data.extend(get_tenders_from_page(url))"
   ]
  },
  {
   "cell_type": "code",
   "execution_count": 15,
   "metadata": {},
   "outputs": [],
   "source": [
    "df = pd.DataFrame(data)"
   ]
  },
  {
   "cell_type": "code",
   "execution_count": 16,
   "metadata": {},
   "outputs": [
    {
     "data": {
      "text/html": [
       "<div>\n",
       "<style scoped>\n",
       "    .dataframe tbody tr th:only-of-type {\n",
       "        vertical-align: middle;\n",
       "    }\n",
       "\n",
       "    .dataframe tbody tr th {\n",
       "        vertical-align: top;\n",
       "    }\n",
       "\n",
       "    .dataframe thead th {\n",
       "        text-align: right;\n",
       "    }\n",
       "</style>\n",
       "<table border=\"1\" class=\"dataframe\">\n",
       "  <thead>\n",
       "    <tr style=\"text-align: right;\">\n",
       "      <th></th>\n",
       "      <th>Номер закупки</th>\n",
       "      <th>Дата размещения</th>\n",
       "      <th>Дата обновления</th>\n",
       "      <th>Окончание подачи заявок</th>\n",
       "      <th>Начальная цена</th>\n",
       "    </tr>\n",
       "  </thead>\n",
       "  <tbody>\n",
       "    <tr>\n",
       "      <th>0</th>\n",
       "      <td>№ 0138300016025000002</td>\n",
       "      <td>19.03.2025</td>\n",
       "      <td>22.03.2025</td>\n",
       "      <td>27.03.2025</td>\n",
       "      <td>12 771 666,67 ₽</td>\n",
       "    </tr>\n",
       "    <tr>\n",
       "      <th>1</th>\n",
       "      <td>№ 32514614418</td>\n",
       "      <td>14.03.2025</td>\n",
       "      <td>22.03.2025</td>\n",
       "      <td>28.03.2025</td>\n",
       "      <td>8 023 333,33 ₽</td>\n",
       "    </tr>\n",
       "    <tr>\n",
       "      <th>2</th>\n",
       "      <td>№ 0351300020025000077</td>\n",
       "      <td>22.03.2025</td>\n",
       "      <td>22.03.2025</td>\n",
       "      <td>31.03.2025</td>\n",
       "      <td>62 407,10 ₽</td>\n",
       "    </tr>\n",
       "  </tbody>\n",
       "</table>\n",
       "</div>"
      ],
      "text/plain": [
       "           Номер закупки Дата размещения Дата обновления  \\\n",
       "0  № 0138300016025000002      19.03.2025      22.03.2025   \n",
       "1          № 32514614418      14.03.2025      22.03.2025   \n",
       "2  № 0351300020025000077      22.03.2025      22.03.2025   \n",
       "\n",
       "  Окончание подачи заявок   Начальная цена  \n",
       "0              27.03.2025  12 771 666,67 ₽  \n",
       "1              28.03.2025   8 023 333,33 ₽  \n",
       "2              31.03.2025      62 407,10 ₽  "
      ]
     },
     "execution_count": 16,
     "metadata": {},
     "output_type": "execute_result"
    }
   ],
   "source": [
    "df.head(3)"
   ]
  },
  {
   "cell_type": "code",
   "execution_count": 17,
   "metadata": {},
   "outputs": [
    {
     "name": "stdout",
     "output_type": "stream",
     "text": [
      "Данные успешно сохранены в zakupki_data.csv\n"
     ]
    }
   ],
   "source": [
    "# Создаем DataFrame и сохраняем в CSV\n",
    "if data:\n",
    "    df = pd.DataFrame(data)\n",
    "    df.to_csv(\"zakupki_data.csv\", index=False, encoding=\"utf-8-sig\")\n",
    "    print(\"Данные успешно сохранены в zakupki_data.csv\")\n",
    "else:\n",
    "    print(\"Не удалось получить данные.\")"
   ]
  }
 ],
 "metadata": {
  "kernelspec": {
   "display_name": "Python 3",
   "language": "python",
   "name": "python3"
  },
  "language_info": {
   "codemirror_mode": {
    "name": "ipython",
    "version": 3
   },
   "file_extension": ".py",
   "mimetype": "text/x-python",
   "name": "python",
   "nbconvert_exporter": "python",
   "pygments_lexer": "ipython3",
   "version": "3.13.0"
  }
 },
 "nbformat": 4,
 "nbformat_minor": 2
}
