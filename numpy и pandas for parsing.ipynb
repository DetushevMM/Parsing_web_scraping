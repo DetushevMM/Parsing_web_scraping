{
  "cells": [
    {
      "cell_type": "code",
      "execution_count": null,
      "id": "a28d6f53-58d3-4a70-acf6-cc6c7856790f",
      "metadata": {
        "trusted": true
      },
      "outputs": [],
      "source": [
        "import numpy as np\n",
        "import pandas as pd\n",
        "import matplotlib.pyplot as plt"
      ]
    },
    {
      "cell_type": "markdown",
      "id": "4a442dcb-5b9f-4d66-899d-85efee71fa04",
      "metadata": {},
      "source": [
        "# Работа с numpy"
      ]
    },
    {
      "cell_type": "code",
      "execution_count": null,
      "id": "1fdaa342-7217-4a6b-9b4e-1b7677fcee3a",
      "metadata": {
        "trusted": true
      },
      "outputs": [],
      "source": [
        "data = np.loadtxt('https://video.ittensive.com/python-advanced/01/mnist.8.txt',\n",
        "                  delimiter=',')"
      ]
    },
    {
      "cell_type": "code",
      "execution_count": null,
      "id": "c75f6982-fb53-4496-b94a-12c3168bf653",
      "metadata": {
        "trusted": true
      },
      "outputs": [],
      "source": [
        "# выведем форму данных (строки, значения в каждой строке)\n",
        "print(data.shape)"
      ]
    },
    {
      "cell_type": "code",
      "execution_count": null,
      "id": "cb871e6e-e00e-4183-8b5b-732ebb091f89",
      "metadata": {
        "trusted": true
      },
      "outputs": [],
      "source": [
        "# Преобразуем данные. Возмем данные второй строки и изменим ее форму. \n",
        "# Т.е. одну строчку из 784 чисел мы преобразуем в таблицу - матрицу - квадрату 28х28 значений (=784)\n",
        "data = np.reshape(data[1], (28, 28))"
      ]
    },
    {
      "cell_type": "code",
      "execution_count": null,
      "id": "effb9894-0574-4448-9b18-74b5ef282edd",
      "metadata": {
        "trusted": true
      },
      "outputs": [],
      "source": [
        "# построим изображение из этой матрицы в градациях серого цвета\n",
        "plt.imshow(data, cmap='Greys')\n",
        "plt.show()"
      ]
    },
    {
      "cell_type": "markdown",
      "id": "330c3d9a-e8b1-413b-91f5-fc262afb1547",
      "metadata": {},
      "source": [
        "Мы можем взять одну строку из данных при загрузке, используя атрибуты: skiprows=1, max_rows=1). Мы пропустим одну строку номер 0 и всего возмем одну строку. У нас получится такой код:\n",
        "- data = np.loadtxt('https://video.ittensive.com/python-advanced/01/mnist.8.txt',\n",
        "                  delimeter=',', skiprows=1, max_rows=1)\n",
        "- data = np.reshape(data, (28, 28)\n",
        "- plt.imshow(data, cmap='Greys')\n",
        "- plt.show()"
      ]
    },
    {
      "cell_type": "markdown",
      "id": "eb6d2b54-ba62-4b9e-a254-25d08698c575",
      "metadata": {},
      "source": [
        "# Фреймы данных"
      ]
    },
    {
      "cell_type": "code",
      "execution_count": null,
      "id": "8cce9371-03cc-46dd-8d44-f096bbffb2b3",
      "metadata": {
        "trusted": true
      },
      "outputs": [
        {
          "name": "stdout",
          "output_type": "stream",
          "text": [
            "                 Регион  \\\n",
            "0  Российская Федерация   \n",
            "1     БЕЛГОРОДСКАЯ ОБЛ.   \n",
            "2         БРЯНСКАЯ ОБЛ.   \n",
            "3     ВЛАДИМИРСКАЯ ОБЛ.   \n",
            "4     ВОРОНЕЖСКАЯ  ОБЛ.   \n",
            "\n",
            "  Число абонентов фиксированного широкополосного доступа к сети Интернет на 100 человек населения  \n",
            "0                                              14,44                                               \n",
            "1                                               9,83                                               \n",
            "2                                              12,46                                               \n",
            "3                                              12,38                                               \n",
            "4                                              16,19                                               \n"
          ]
        }
      ],
      "source": [
        "data = pd.read_csv('https://video.ittensive.com/python-advanced/internet-2017.csv')\n",
        "print(data.head())"
      ]
    },
    {
      "cell_type": "code",
      "execution_count": null,
      "id": "9696a64e-e775-463f-bcf0-daf33f3c4b0f",
      "metadata": {
        "trusted": true
      },
      "outputs": [
        {
          "name": "stdout",
          "output_type": "stream",
          "text": [
            "[['Российская Федерация' '14,44']\n",
            " ['БЕЛГОРОДСКАЯ ОБЛ.' '9,83']\n",
            " ['БРЯНСКАЯ ОБЛ.' '12,46']\n",
            " ['ВЛАДИМИРСКАЯ ОБЛ.' '12,38']\n",
            " ['ВОРОНЕЖСКАЯ  ОБЛ.' '16,19']\n",
            " ['ИВАНОВСКАЯ ОБЛ.' '10,5']\n",
            " ['КАЛУЖСКАЯ ОБЛ.' '15,92']\n",
            " ['КОСТРОМСКАЯ ОБЛ.' '16,38']\n",
            " ['КУРСКАЯ ОБЛ.' '10,48']\n",
            " ['ЛИПЕЦКАЯ ОБЛ.' '12,09']\n",
            " ['МОСКОВСКАЯ ОБЛ.' '7,92']\n",
            " ['ОРЛОВСКАЯ ОБЛ.' '11,76']\n",
            " ['РЯЗАНСКАЯ ОБЛ.' '10,58']\n",
            " ['СМОЛЕНСКАЯ ОБЛ.' '13,48']\n",
            " ['ТАМБОВСКАЯ ОБЛ.' '12,36']\n",
            " ['ТВЕРСКАЯ ОБЛ.' '10,45']\n",
            " ['ТУЛЬСКАЯ ОБЛ.' '15,86']\n",
            " ['ЯРОСЛАВСКАЯ ОБЛ.' '18,48']\n",
            " ['г.МОСКВА' '24,59']\n",
            " ['Центральный фед.округ' '15,76']\n",
            " ['РЕСП. КАРЕЛИЯ' '23,88']\n",
            " ['РЕСП. КОМИ' '16,5']\n",
            " ['АРХАНГЕЛЬСКАЯ ОБЛ.' '15,57']\n",
            " ['ВОЛОГОДСКАЯ ОБЛ.' '16,18']\n",
            " ['КАЛИНИНГРАДСКАЯ ОБЛ.' '20,2']\n",
            " ['ЛЕНИНГРАДСКАЯ ОБЛ.' '8,7']\n",
            " ['МУРМАНСКАЯ ОБЛ.' '17,15']\n",
            " ['НОВГОРОДСКАЯ ОБЛ.' '14,8']\n",
            " ['ПСКОВСКАЯ ОБЛ.' '7,57']\n",
            " ['г.САНКТ-ПЕТЕРБУРГ' '21,94']\n",
            " ['Северо-Западный фед.округ' '17,52']\n",
            " ['РЕСП. АДЫГЕЯ' '4,87']\n",
            " ['РЕСП. КАЛМЫКИЯ' '6,15']\n",
            " ['КРАСНОДАРСКИЙ КРАЙ' '11,43']\n",
            " ['АСТРАХАНСКАЯ ОБЛ.' '11,35']\n",
            " ['ВОЛГОГРАДСКАЯ ОБЛ.' '13,93']\n",
            " ['РОСТОВСКАЯ ОБЛ.' '9,89']\n",
            " ['Южный фед.округ' '11,1']\n",
            " ['РЕСП. ДАГЕСТАН' '0,86']\n",
            " ['РЕСП.ИНГУШСКАЯ' '0,63']\n",
            " ['КАБАРД.-БАЛКАР. РЕСП.' '6,79']\n",
            " ['КАРАЧ.-ЧЕРКЕСС. РЕСП.' '5,61']\n",
            " ['РЕСП.СЕВЕРНАЯ-ОСЕТИЯ' '6,86']\n",
            " ['ЧЕЧЕНСКАЯ РЕСП.' '0,12']\n",
            " ['СТАВРОПОЛЬСКИЙ КРАЙ' '8,98']\n",
            " ['Северо-Кавказский фед.округ' '4,33']\n",
            " ['РЕСП.БАШКОРТОСТАН' '16,1']\n",
            " ['РЕСП. МАРИЙ-ЭЛ' '13,92']\n",
            " ['РЕСП. МОРДОВИЯ' '12,13']\n",
            " ['РЕСП. ТАТАРСТАН' '21,84']\n",
            " ['УДМУРТСКАЯ РЕСП.' '17,93']\n",
            " ['ЧУВАШСКАЯ РЕСП.' '8,72']\n",
            " ['КИРОВСКАЯ ОБЛ.' '16,73']\n",
            " ['НИЖЕГОРОДСКАЯ ОБЛ.' '18,19']\n",
            " ['ОРЕНБУРГСКАЯ ОБЛ.' '14,78']\n",
            " ['ПЕНЗЕНСКАЯ ОБЛ.' '11,46']\n",
            " ['ПЕРМСКИЙ КРАЙ' '10,37']\n",
            " ['САМАРСКАЯ ОБЛ.' '18,41']\n",
            " ['САРАТОВСКАЯ ОБЛ.' '15,43']\n",
            " ['УЛЬЯНОВСКАЯ ОБЛ.' '16,58']\n",
            " ['Приволжский фед.округ' '16,12']\n",
            " ['КУРГАНСКАЯ ОБЛ.' '13,4']\n",
            " ['СВЕРДЛОВСКАЯ ОБЛ.' '16,75']\n",
            " ['ТЮМЕНСКАЯ ОБЛ.' '20,52']\n",
            " ['ХАНТЫ-МАНСИЙСКИЙ АО' '16,62']\n",
            " ['ЯМАЛО-НЕНЕЦКИЙ АО' '15,33']\n",
            " ['ЧЕЛЯБИНСКАЯ ОБЛ.' '16,87']\n",
            " ['Уральский фед.округ' '16,89']\n",
            " ['РЕСП. АЛТАЙ' '4,12']\n",
            " ['РЕСП. БУРЯТИЯ' '5,45']\n",
            " ['РЕСП. ТЫВА' '1,39']\n",
            " ['РЕСП. ХАКАСИЯ' '8,22']\n",
            " ['АЛТАЙСКИЙ КРАЙ' '12,23']\n",
            " ['КРАСНОЯРСКИЙ КРАЙ' '13,6']\n",
            " ['ИРКУТСКАЯ ОБЛ.' '11,46']\n",
            " ['КЕМЕРОВСКАЯ ОБЛ.' '12,65']\n",
            " ['НОВОСИБИРСКАЯ ОБЛ.' '25,94']\n",
            " ['ОМСКАЯ ОБЛ.' '13,97']\n",
            " ['ТОМСКАЯ ОБЛ.' '11,68']\n",
            " ['ЗАБАЙКАЛЬСКИЙ КРАЙ' '5,03']\n",
            " ['Сибирский фед.округ' '13,35']\n",
            " ['РЕСП. САХА (ЯКУТИЯ)' '9,55']\n",
            " ['ПРИМОРСКИЙ КРАЙ' '15,86']\n",
            " ['ХАБАРОВСКИЙ КРАЙ' '14,85']\n",
            " ['АМУРСКАЯ ОБЛ.' '7,52']\n",
            " ['КАМЧАТСКИЙ КРАЙ' '11,29']\n",
            " ['МАГАДАНСКАЯ ОБЛ.' '16,65']\n",
            " ['САХАЛИНСКАЯ ОБЛ.' '13,01']\n",
            " ['ЕВРЕЙСКАЯ А.О.' '13,29']\n",
            " ['ЧУКОТСКИЙ А.О.' '9,48']\n",
            " ['Дальневосточный фед.округ' '13,03']\n",
            " ['РЕСПУБЛИКА КРЫМ' nan]]\n"
          ]
        }
      ],
      "source": [
        "# Если мы хотим получить данные в виде массива numpy - в данном случае численные данные из колонки 2:\n",
        "data_array = data.values\n",
        "print(data_array)"
      ]
    },
    {
      "cell_type": "markdown",
      "id": "4403f658-592e-4d4d-b970-adce93e23669",
      "metadata": {},
      "source": [
        "Все пропущенные значения мы можем преобразовать в 'NA' при загрузке данных. Мы можем использовать что угодно для обозначения пропущенных значений: '-', 'miss' и тд. Атрибут na_values='NA'\n",
        "\n",
        "Также мы можем заменить запятые в числовых данных на точки, чтоб с этими данными можно было далее работать. Атрибут "
      ]
    },
    {
      "cell_type": "code",
      "execution_count": null,
      "id": "45cd813e-e910-4562-a8b2-d6a45a98db6c",
      "metadata": {
        "trusted": true
      },
      "outputs": [],
      "source": [
        "data = pd.read_csv('https://video.ittensive.com/python-advanced/internet-2017.csv',\n",
        "                   na_values='NA', decimal=',')"
      ]
    },
    {
      "cell_type": "code",
      "execution_count": null,
      "id": "f663d29f-ca93-49e0-92a6-2215bfcb2e26",
      "metadata": {
        "trusted": true
      },
      "outputs": [],
      "source": [
        "# Далее требуется провести фильтрацию данных\n",
        "# Зменим NA на 0\n",
        "data.fillna(0, axis=1, inplace=True)"
      ]
    },
    {
      "cell_type": "code",
      "execution_count": null,
      "id": "97bfb69d-7eff-485a-a258-2dcf4a653139",
      "metadata": {
        "trusted": true
      },
      "outputs": [
        {
          "name": "stdout",
          "output_type": "stream",
          "text": [
            "[['Российская Федерация' 14.44]\n",
            " ['БЕЛГОРОДСКАЯ ОБЛ.' 9.83]\n",
            " ['БРЯНСКАЯ ОБЛ.' 12.46]\n",
            " ['ВЛАДИМИРСКАЯ ОБЛ.' 12.38]\n",
            " ['ВОРОНЕЖСКАЯ  ОБЛ.' 16.19]\n",
            " ['ИВАНОВСКАЯ ОБЛ.' 10.5]\n",
            " ['КАЛУЖСКАЯ ОБЛ.' 15.92]\n",
            " ['КОСТРОМСКАЯ ОБЛ.' 16.38]\n",
            " ['КУРСКАЯ ОБЛ.' 10.48]\n",
            " ['ЛИПЕЦКАЯ ОБЛ.' 12.09]\n",
            " ['МОСКОВСКАЯ ОБЛ.' 7.92]\n",
            " ['ОРЛОВСКАЯ ОБЛ.' 11.76]\n",
            " ['РЯЗАНСКАЯ ОБЛ.' 10.58]\n",
            " ['СМОЛЕНСКАЯ ОБЛ.' 13.48]\n",
            " ['ТАМБОВСКАЯ ОБЛ.' 12.36]\n",
            " ['ТВЕРСКАЯ ОБЛ.' 10.45]\n",
            " ['ТУЛЬСКАЯ ОБЛ.' 15.86]\n",
            " ['ЯРОСЛАВСКАЯ ОБЛ.' 18.48]\n",
            " ['г.МОСКВА' 24.59]\n",
            " ['Центральный фед.округ' 15.76]\n",
            " ['РЕСП. КАРЕЛИЯ' 23.88]\n",
            " ['РЕСП. КОМИ' 16.5]\n",
            " ['АРХАНГЕЛЬСКАЯ ОБЛ.' 15.57]\n",
            " ['ВОЛОГОДСКАЯ ОБЛ.' 16.18]\n",
            " ['КАЛИНИНГРАДСКАЯ ОБЛ.' 20.2]\n",
            " ['ЛЕНИНГРАДСКАЯ ОБЛ.' 8.7]\n",
            " ['МУРМАНСКАЯ ОБЛ.' 17.15]\n",
            " ['НОВГОРОДСКАЯ ОБЛ.' 14.8]\n",
            " ['ПСКОВСКАЯ ОБЛ.' 7.57]\n",
            " ['г.САНКТ-ПЕТЕРБУРГ' 21.94]\n",
            " ['Северо-Западный фед.округ' 17.52]\n",
            " ['РЕСП. АДЫГЕЯ' 4.87]\n",
            " ['РЕСП. КАЛМЫКИЯ' 6.15]\n",
            " ['КРАСНОДАРСКИЙ КРАЙ' 11.43]\n",
            " ['АСТРАХАНСКАЯ ОБЛ.' 11.35]\n",
            " ['ВОЛГОГРАДСКАЯ ОБЛ.' 13.93]\n",
            " ['РОСТОВСКАЯ ОБЛ.' 9.89]\n",
            " ['Южный фед.округ' 11.1]\n",
            " ['РЕСП. ДАГЕСТАН' 0.86]\n",
            " ['РЕСП.ИНГУШСКАЯ' 0.63]\n",
            " ['КАБАРД.-БАЛКАР. РЕСП.' 6.79]\n",
            " ['КАРАЧ.-ЧЕРКЕСС. РЕСП.' 5.61]\n",
            " ['РЕСП.СЕВЕРНАЯ-ОСЕТИЯ' 6.86]\n",
            " ['ЧЕЧЕНСКАЯ РЕСП.' 0.12]\n",
            " ['СТАВРОПОЛЬСКИЙ КРАЙ' 8.98]\n",
            " ['Северо-Кавказский фед.округ' 4.33]\n",
            " ['РЕСП.БАШКОРТОСТАН' 16.1]\n",
            " ['РЕСП. МАРИЙ-ЭЛ' 13.92]\n",
            " ['РЕСП. МОРДОВИЯ' 12.13]\n",
            " ['РЕСП. ТАТАРСТАН' 21.84]\n",
            " ['УДМУРТСКАЯ РЕСП.' 17.93]\n",
            " ['ЧУВАШСКАЯ РЕСП.' 8.72]\n",
            " ['КИРОВСКАЯ ОБЛ.' 16.73]\n",
            " ['НИЖЕГОРОДСКАЯ ОБЛ.' 18.19]\n",
            " ['ОРЕНБУРГСКАЯ ОБЛ.' 14.78]\n",
            " ['ПЕНЗЕНСКАЯ ОБЛ.' 11.46]\n",
            " ['ПЕРМСКИЙ КРАЙ' 10.37]\n",
            " ['САМАРСКАЯ ОБЛ.' 18.41]\n",
            " ['САРАТОВСКАЯ ОБЛ.' 15.43]\n",
            " ['УЛЬЯНОВСКАЯ ОБЛ.' 16.58]\n",
            " ['Приволжский фед.округ' 16.12]\n",
            " ['КУРГАНСКАЯ ОБЛ.' 13.4]\n",
            " ['СВЕРДЛОВСКАЯ ОБЛ.' 16.75]\n",
            " ['ТЮМЕНСКАЯ ОБЛ.' 20.52]\n",
            " ['ХАНТЫ-МАНСИЙСКИЙ АО' 16.62]\n",
            " ['ЯМАЛО-НЕНЕЦКИЙ АО' 15.33]\n",
            " ['ЧЕЛЯБИНСКАЯ ОБЛ.' 16.87]\n",
            " ['Уральский фед.округ' 16.89]\n",
            " ['РЕСП. АЛТАЙ' 4.12]\n",
            " ['РЕСП. БУРЯТИЯ' 5.45]\n",
            " ['РЕСП. ТЫВА' 1.39]\n",
            " ['РЕСП. ХАКАСИЯ' 8.22]\n",
            " ['АЛТАЙСКИЙ КРАЙ' 12.23]\n",
            " ['КРАСНОЯРСКИЙ КРАЙ' 13.6]\n",
            " ['ИРКУТСКАЯ ОБЛ.' 11.46]\n",
            " ['КЕМЕРОВСКАЯ ОБЛ.' 12.65]\n",
            " ['НОВОСИБИРСКАЯ ОБЛ.' 25.94]\n",
            " ['ОМСКАЯ ОБЛ.' 13.97]\n",
            " ['ТОМСКАЯ ОБЛ.' 11.68]\n",
            " ['ЗАБАЙКАЛЬСКИЙ КРАЙ' 5.03]\n",
            " ['Сибирский фед.округ' 13.35]\n",
            " ['РЕСП. САХА (ЯКУТИЯ)' 9.55]\n",
            " ['ПРИМОРСКИЙ КРАЙ' 15.86]\n",
            " ['ХАБАРОВСКИЙ КРАЙ' 14.85]\n",
            " ['АМУРСКАЯ ОБЛ.' 7.52]\n",
            " ['КАМЧАТСКИЙ КРАЙ' 11.29]\n",
            " ['МАГАДАНСКАЯ ОБЛ.' 16.65]\n",
            " ['САХАЛИНСКАЯ ОБЛ.' 13.01]\n",
            " ['ЕВРЕЙСКАЯ А.О.' 13.29]\n",
            " ['ЧУКОТСКИЙ А.О.' 9.48]\n",
            " ['Дальневосточный фед.округ' 13.03]\n",
            " ['РЕСПУБЛИКА КРЫМ' 0]]\n"
          ]
        }
      ],
      "source": [
        "data_array = data.values\n",
        "print(data_array)"
      ]
    },
    {
      "cell_type": "markdown",
      "id": "a48310fd-159b-4408-8edb-adfeb4dc4659",
      "metadata": {},
      "source": [
        "# Получение данных из Excel"
      ]
    },
    {
      "cell_type": "code",
      "execution_count": 19,
      "id": "712c8c5e-4260-4d71-9f55-a3e54ff5b426",
      "metadata": {
        "trusted": true
      },
      "outputs": [],
      "source": [
        "data = pd.ExcelFile('https://video.ittensive.com/python-advanced/website.load.timings.xlsx')"
      ]
    },
    {
      "cell_type": "code",
      "execution_count": 20,
      "id": "bcf99568-5a0b-4338-bbf0-5da8b3f68d49",
      "metadata": {
        "trusted": true
      },
      "outputs": [
        {
          "name": "stdout",
          "output_type": "stream",
          "text": [
            "['Лист1']\n"
          ]
        }
      ],
      "source": [
        "#  В таком формате мы можем только посмотреть названия листов\n",
        "print(data.sheet_names)"
      ]
    },
    {
      "cell_type": "code",
      "execution_count": 21,
      "id": "4ed03e1a-e086-4b94-b0b4-63b761c32a16",
      "metadata": {
        "trusted": true
      },
      "outputs": [],
      "source": [
        "# Чтобы получить данные из листа эксель их требуется распартить. Указываем имя листа или номер.\n",
        "data = data.parse(sheet_name=0)"
      ]
    },
    {
      "cell_type": "code",
      "execution_count": 22,
      "id": "ad66ddc4-4464-4fa3-9b91-f0e492493400",
      "metadata": {
        "trusted": true
      },
      "outputs": [
        {
          "name": "stdout",
          "output_type": "stream",
          "text": [
            "                 Дата  Время отрисовки (мс)  Время загрузки (мс)\n",
            "0 2016-03-12 00:00:01                  3160                 7008\n",
            "1 2016-03-13 00:00:01                     0                    0\n",
            "2 2016-03-14 00:00:01                  4861                45341\n",
            "3 2016-03-15 00:00:01                  7234                26965\n",
            "4 2016-03-16 00:00:01                  2135                 8746\n"
          ]
        }
      ],
      "source": [
        "print(data.head())"
      ]
    },
    {
      "cell_type": "markdown",
      "id": "72f1a8d8-39ec-48d3-ace1-2c097827a9d1",
      "metadata": {},
      "source": [
        "Мы можем совместить эти две операции вызвать функцию parse при загрузке файла, а также переименовать колонки. Сразу конверстируем даты и числовые значения в правильный формат:"
      ]
    },
    {
      "cell_type": "code",
      "execution_count": 24,
      "id": "f061e87e-d7cb-40c2-9355-e9d0a33f5d29",
      "metadata": {
        "trusted": true
      },
      "outputs": [],
      "source": [
        "data = pd.ExcelFile('https://video.ittensive.com/python-advanced/website.load.timings.xlsx').parse(sheet_name=0,\n",
        "                                                                                                   names=['Date', 'DOM time', 'Load time'], \n",
        "                          converters={'Date': pd.to_datetime, 'DOM time': int, 'Load time': int})"
      ]
    },
    {
      "cell_type": "code",
      "execution_count": 25,
      "id": "c3451575-9e1e-416b-821e-acf7c9d17ac5",
      "metadata": {
        "trusted": true
      },
      "outputs": [
        {
          "name": "stdout",
          "output_type": "stream",
          "text": [
            "                 Date  DOM time  Load time\n",
            "0 2016-03-12 00:00:01      3160       7008\n",
            "1 2016-03-13 00:00:01         0          0\n",
            "2 2016-03-14 00:00:01      4861      45341\n",
            "3 2016-03-15 00:00:01      7234      26965\n",
            "4 2016-03-16 00:00:01      2135       8746\n"
          ]
        }
      ],
      "source": [
        "print(data.head())"
      ]
    },
    {
      "cell_type": "code",
      "execution_count": 26,
      "id": "044c50df-7f18-4cf0-83dd-1493f16082a0",
      "metadata": {
        "trusted": true
      },
      "outputs": [
        {
          "name": "stdout",
          "output_type": "stream",
          "text": [
            "Date         2016-04-07 16:28:15.117646848\n",
            "DOM time                       4026.705882\n",
            "Load time                     11352.862745\n",
            "dtype: object\n"
          ]
        }
      ],
      "source": [
        "print(data.mean())"
      ]
    },
    {
      "cell_type": "markdown",
      "id": "135387ef-af66-4fb1-9e1e-172cbe12a844",
      "metadata": {},
      "source": [
        "# Индексы данных"
      ]
    },
    {
      "cell_type": "code",
      "execution_count": 27,
      "id": "7e067869-f218-4435-8cf6-a971d45beb50",
      "metadata": {
        "trusted": true
      },
      "outputs": [
        {
          "name": "stdout",
          "output_type": "stream",
          "text": [
            "                       Регион   2017\n",
            "0        Российская Федерация  14.44\n",
            "1           БЕЛГОРОДСКАЯ ОБЛ.   9.83\n",
            "2               БРЯНСКАЯ ОБЛ.  12.46\n",
            "3           ВЛАДИМИРСКАЯ ОБЛ.  12.38\n",
            "4           ВОРОНЕЖСКАЯ  ОБЛ.  16.19\n",
            "..                        ...    ...\n",
            "87           САХАЛИНСКАЯ ОБЛ.  13.01\n",
            "88             ЕВРЕЙСКАЯ А.О.  13.29\n",
            "89             ЧУКОТСКИЙ А.О.   9.48\n",
            "90  Дальневосточный фед.округ  13.03\n",
            "91            РЕСПУБЛИКА КРЫМ    NaN\n",
            "\n",
            "[92 rows x 2 columns]\n"
          ]
        }
      ],
      "source": [
        "data = pd.read_csv('https://video.ittensive.com/python-advanced/internet-2017.csv',\n",
        "                   na_values='NA', decimal=',', skiprows=1, names = ['Регион', '2017'])\n",
        "print(data)"
      ]
    },
    {
      "cell_type": "markdown",
      "id": "25763444-6b40-4a91-8b0d-9de07594d1c5",
      "metadata": {},
      "source": [
        "Атрибутом skiprows=1 мы пропустили загаловок"
      ]
    },
    {
      "cell_type": "markdown",
      "id": "c553acad-5904-4d39-8e17-69977814500e",
      "metadata": {},
      "source": [
        "Данные не преобразованы в столбцы и строки. Преобразуем их в новый датафрейм через назначение значений"
      ]
    },
    {
      "cell_type": "code",
      "execution_count": 29,
      "id": "fc924578-c4cf-4051-86c5-8c79221c3aaa",
      "metadata": {
        "trusted": true
      },
      "outputs": [
        {
          "name": "stdout",
          "output_type": "stream",
          "text": [
            "Российская Федерация         14.44\n",
            "БЕЛГОРОДСКАЯ ОБЛ.             9.83\n",
            "БРЯНСКАЯ ОБЛ.                12.46\n",
            "ВЛАДИМИРСКАЯ ОБЛ.            12.38\n",
            "ВОРОНЕЖСКАЯ  ОБЛ.            16.19\n",
            "                             ...  \n",
            "САХАЛИНСКАЯ ОБЛ.             13.01\n",
            "ЕВРЕЙСКАЯ А.О.               13.29\n",
            "ЧУКОТСКИЙ А.О.                9.48\n",
            "Дальневосточный фед.округ    13.03\n",
            "РЕСПУБЛИКА КРЫМ                NaN\n",
            "Length: 92, dtype: float64\n"
          ]
        }
      ],
      "source": [
        "data_indexed = pd.Series(data['2017'].values, index=data['Регион'].values)\n",
        "print(data_indexed)"
      ]
    },
    {
      "cell_type": "code",
      "execution_count": 30,
      "id": "1df5fcd3-ea38-4ad9-88b8-9f7d475a692b",
      "metadata": {
        "trusted": true
      },
      "outputs": [
        {
          "name": "stdout",
          "output_type": "stream",
          "text": [
            "Index(['Российская Федерация', 'БЕЛГОРОДСКАЯ ОБЛ.', 'БРЯНСКАЯ ОБЛ.',\n",
            "       'ВЛАДИМИРСКАЯ ОБЛ.', 'ВОРОНЕЖСКАЯ  ОБЛ.', 'ИВАНОВСКАЯ ОБЛ.',\n",
            "       'КАЛУЖСКАЯ ОБЛ.', 'КОСТРОМСКАЯ ОБЛ.', 'КУРСКАЯ ОБЛ.', 'ЛИПЕЦКАЯ ОБЛ.',\n",
            "       'МОСКОВСКАЯ ОБЛ.', 'ОРЛОВСКАЯ ОБЛ.', 'РЯЗАНСКАЯ ОБЛ.',\n",
            "       'СМОЛЕНСКАЯ ОБЛ.', 'ТАМБОВСКАЯ ОБЛ.', 'ТВЕРСКАЯ ОБЛ.', 'ТУЛЬСКАЯ ОБЛ.',\n",
            "       'ЯРОСЛАВСКАЯ ОБЛ.', 'г.МОСКВА', 'Центральный фед.округ',\n",
            "       'РЕСП. КАРЕЛИЯ', 'РЕСП. КОМИ', 'АРХАНГЕЛЬСКАЯ ОБЛ.', 'ВОЛОГОДСКАЯ ОБЛ.',\n",
            "       'КАЛИНИНГРАДСКАЯ ОБЛ.', 'ЛЕНИНГРАДСКАЯ ОБЛ.', 'МУРМАНСКАЯ ОБЛ.',\n",
            "       'НОВГОРОДСКАЯ ОБЛ.', 'ПСКОВСКАЯ ОБЛ.', 'г.САНКТ-ПЕТЕРБУРГ',\n",
            "       'Северо-Западный фед.округ', 'РЕСП. АДЫГЕЯ', 'РЕСП. КАЛМЫКИЯ',\n",
            "       'КРАСНОДАРСКИЙ КРАЙ', 'АСТРАХАНСКАЯ ОБЛ.', 'ВОЛГОГРАДСКАЯ ОБЛ.',\n",
            "       'РОСТОВСКАЯ ОБЛ.', 'Южный фед.округ', 'РЕСП. ДАГЕСТАН',\n",
            "       'РЕСП.ИНГУШСКАЯ', 'КАБАРД.-БАЛКАР. РЕСП.', 'КАРАЧ.-ЧЕРКЕСС. РЕСП.',\n",
            "       'РЕСП.СЕВЕРНАЯ-ОСЕТИЯ', 'ЧЕЧЕНСКАЯ РЕСП.', 'СТАВРОПОЛЬСКИЙ КРАЙ',\n",
            "       'Северо-Кавказский фед.округ', 'РЕСП.БАШКОРТОСТАН', 'РЕСП. МАРИЙ-ЭЛ',\n",
            "       'РЕСП. МОРДОВИЯ', 'РЕСП. ТАТАРСТАН', 'УДМУРТСКАЯ РЕСП.',\n",
            "       'ЧУВАШСКАЯ РЕСП.', 'КИРОВСКАЯ ОБЛ.', 'НИЖЕГОРОДСКАЯ ОБЛ.',\n",
            "       'ОРЕНБУРГСКАЯ ОБЛ.', 'ПЕНЗЕНСКАЯ ОБЛ.', 'ПЕРМСКИЙ КРАЙ',\n",
            "       'САМАРСКАЯ ОБЛ.', 'САРАТОВСКАЯ ОБЛ.', 'УЛЬЯНОВСКАЯ ОБЛ.',\n",
            "       'Приволжский фед.округ', 'КУРГАНСКАЯ ОБЛ.', 'СВЕРДЛОВСКАЯ ОБЛ.',\n",
            "       'ТЮМЕНСКАЯ ОБЛ.', 'ХАНТЫ-МАНСИЙСКИЙ АО', 'ЯМАЛО-НЕНЕЦКИЙ АО',\n",
            "       'ЧЕЛЯБИНСКАЯ ОБЛ.', 'Уральский фед.округ', 'РЕСП. АЛТАЙ',\n",
            "       'РЕСП. БУРЯТИЯ', 'РЕСП. ТЫВА', 'РЕСП. ХАКАСИЯ', 'АЛТАЙСКИЙ КРАЙ',\n",
            "       'КРАСНОЯРСКИЙ КРАЙ', 'ИРКУТСКАЯ ОБЛ.', 'КЕМЕРОВСКАЯ ОБЛ.',\n",
            "       'НОВОСИБИРСКАЯ ОБЛ.', 'ОМСКАЯ ОБЛ.', 'ТОМСКАЯ ОБЛ.',\n",
            "       'ЗАБАЙКАЛЬСКИЙ КРАЙ', 'Сибирский фед.округ', 'РЕСП. САХА (ЯКУТИЯ)',\n",
            "       'ПРИМОРСКИЙ КРАЙ', 'ХАБАРОВСКИЙ КРАЙ', 'АМУРСКАЯ ОБЛ.',\n",
            "       'КАМЧАТСКИЙ КРАЙ', 'МАГАДАНСКАЯ ОБЛ.', 'САХАЛИНСКАЯ ОБЛ.',\n",
            "       'ЕВРЕЙСКАЯ А.О.', 'ЧУКОТСКИЙ А.О.', 'Дальневосточный фед.округ',\n",
            "       'РЕСПУБЛИКА КРЫМ'],\n",
            "      dtype='object')\n"
          ]
        }
      ],
      "source": [
        "# Посмотрим индексы\n",
        "print(data_indexed.index)"
      ]
    },
    {
      "cell_type": "markdown",
      "id": "0570350a-474d-49e3-b014-3eb87d6e2efe",
      "metadata": {},
      "source": [
        "Снова всё упростим в одну строку загрузки"
      ]
    },
    {
      "cell_type": "code",
      "execution_count": 31,
      "id": "51d08c6a-da0f-471a-a0ae-86668a26ddc4",
      "metadata": {
        "trusted": true
      },
      "outputs": [
        {
          "name": "stdout",
          "output_type": "stream",
          "text": [
            "                       2017\n",
            "Регион                     \n",
            "Российская Федерация  14.44\n",
            "БЕЛГОРОДСКАЯ ОБЛ.      9.83\n",
            "БРЯНСКАЯ ОБЛ.         12.46\n",
            "ВЛАДИМИРСКАЯ ОБЛ.     12.38\n",
            "ВОРОНЕЖСКАЯ  ОБЛ.     16.19\n"
          ]
        }
      ],
      "source": [
        "data = pd.read_csv('https://video.ittensive.com/python-advanced/internet-2017.csv',\n",
        "                   na_values='NA', decimal=',', skiprows=1, names = ['Регион', '2017'],\n",
        "                  index_col=\"Регион\")\n",
        "print(data.head())"
      ]
    },
    {
      "cell_type": "code",
      "execution_count": 32,
      "id": "de7fc710-4424-4d74-b407-e380a99cd892",
      "metadata": {
        "trusted": true
      },
      "outputs": [],
      "source": [
        "# переименуем индексы\n",
        "data.index.name = \"РЕГИОН\""
      ]
    },
    {
      "cell_type": "code",
      "execution_count": 33,
      "id": "14839a34-7626-4c83-b92f-d18e64d7c1b7",
      "metadata": {
        "trusted": true
      },
      "outputs": [
        {
          "name": "stdout",
          "output_type": "stream",
          "text": [
            "                       2017\n",
            "РЕГИОН                     \n",
            "Российская Федерация  14.44\n",
            "БЕЛГОРОДСКАЯ ОБЛ.      9.83\n",
            "БРЯНСКАЯ ОБЛ.         12.46\n",
            "ВЛАДИМИРСКАЯ ОБЛ.     12.38\n",
            "ВОРОНЕЖСКАЯ  ОБЛ.     16.19\n"
          ]
        }
      ],
      "source": [
        "print(data.head())"
      ]
    },
    {
      "cell_type": "code",
      "execution_count": 35,
      "id": "9eb2b2d9-70bf-4c52-9326-820c7cd4469f",
      "metadata": {
        "trusted": true
      },
      "outputs": [
        {
          "name": "stdout",
          "output_type": "stream",
          "text": [
            "                 РЕГИОН   2017\n",
            "0  Российская Федерация  14.44\n",
            "1     БЕЛГОРОДСКАЯ ОБЛ.   9.83\n",
            "2         БРЯНСКАЯ ОБЛ.  12.46\n",
            "3     ВЛАДИМИРСКАЯ ОБЛ.  12.38\n",
            "4     ВОРОНЕЖСКАЯ  ОБЛ.  16.19\n"
          ]
        }
      ],
      "source": [
        "# Если нам нужно пересобрать данные или индекс обратно ввести в данные - Сбросим индекс\n",
        "data = data.reset_index()\n",
        "print(data.head())"
      ]
    },
    {
      "cell_type": "markdown",
      "id": "69df7838-8c2f-4d87-99a3-a1ccc3243508",
      "metadata": {},
      "source": [
        "# Иерархический или множественный индекс - Мультиндекс"
      ]
    },
    {
      "cell_type": "code",
      "execution_count": 36,
      "id": "f210a311-9012-4d7b-98e7-452e2c1d70f1",
      "metadata": {
        "trusted": true
      },
      "outputs": [],
      "source": [
        "data = pd.read_csv('https://video.ittensive.com/python-advanced/internet-2017.csv',\n",
        "                   na_values='NA', decimal=',', skiprows=1, names = ['Регион', '2017'])"
      ]
    },
    {
      "cell_type": "code",
      "execution_count": 37,
      "id": "fe368b09-dd7f-4f03-b7c7-c24a767b41bf",
      "metadata": {
        "trusted": true
      },
      "outputs": [
        {
          "name": "stdout",
          "output_type": "stream",
          "text": [
            "Index([19, 30, 37, 45, 60, 67, 80, 90], dtype='int64')\n"
          ]
        }
      ],
      "source": [
        "# Найдем все ригионы с значением \"округ\". Выедем номера строк с этим условием. \n",
        "area_index = data[data['Регион'].str.contains('округ')].index\n",
        "print(area_index)"
      ]
    },
    {
      "cell_type": "code",
      "execution_count": 39,
      "id": "b2332498-cbb4-44e1-ac38-0b042706fb29",
      "metadata": {
        "trusted": true
      },
      "outputs": [
        {
          "ename": "SyntaxError",
          "evalue": "expected 'else' after 'if' expression (495960781.py, line 4)",
          "output_type": "error",
          "traceback": [
            "\u001b[1;36m  Cell \u001b[1;32mIn[39], line 4\u001b[1;36m\u001b[0m\n\u001b[1;33m    data_areas_index = [(lambda n: 'AREA' if n area_index else 'REGION') (i) for i in range(0, len(data.index))]\u001b[0m\n\u001b[1;37m                                   ^\u001b[0m\n\u001b[1;31mSyntaxError\u001b[0m\u001b[1;31m:\u001b[0m expected 'else' after 'if' expression\n"
          ]
        }
      ],
      "source": [
        "# Создадим тндекс из полученных номеров строк\n",
        "# Создадим генератор for, который создаст список\n",
        "# Если это округ, то = 'AREA' или 'REGION' в противном случае\n",
        "data_areas_index = [(lambda n: 'AREA' if n area_index else 'REGION') (i) for i in range(0, len(data.index))]"
      ]
    },
    {
      "cell_type": "code",
      "execution_count": null,
      "id": "205a520f-1286-4d2b-9f31-9c4bf3702f22",
      "metadata": {
        "trusted": true
      },
      "outputs": [],
      "source": [
        "print(data_areas_index)"
      ]
    },
    {
      "cell_type": "code",
      "execution_count": null,
      "id": "af6989fc-b9db-4d60-ae21-beb390e0ef13",
      "metadata": {
        "trusted": true
      },
      "outputs": [],
      "source": [
        "# Добавим столбец в наши данные\n",
        "data['Тип'] = data_areas_index"
      ]
    },
    {
      "cell_type": "code",
      "execution_count": null,
      "id": "79c8a22a-965d-434e-8c75-7159e4069ebf",
      "metadata": {
        "trusted": true
      },
      "outputs": [],
      "source": [
        "# Создадим мультиндекс по типу и по региону\n",
        "data = data.set_index(['Тип', 'Регион'])\n",
        "print(data.head())"
      ]
    },
    {
      "cell_type": "code",
      "execution_count": null,
      "id": "d8fcda1e-b05a-45aa-bb83-7952685c252a",
      "metadata": {
        "trusted": true
      },
      "outputs": [],
      "source": [
        "# Теперь мы можем отсортировать данные по типу и по региону. Отделим округа от регионов\n",
        "data = data.sort_index()\n",
        "print(data)"
      ]
    },
    {
      "cell_type": "code",
      "execution_count": null,
      "id": "1869de62-c531-4bde-8a89-52aafe33f025",
      "metadata": {
        "trusted": true
      },
      "outputs": [],
      "source": [
        "# Получим срез данных по типу данных - все округа\n",
        "areas = data.loc['AREA']\n",
        "print(areas)"
      ]
    },
    {
      "cell_type": "markdown",
      "id": "1f06ab71-fbf4-4a6a-99ee-321e963f4319",
      "metadata": {},
      "source": [
        "# Объединение фреймов"
      ]
    },
    {
      "cell_type": "code",
      "execution_count": 40,
      "id": "62675593-343c-4f51-abc0-2e33d9d2444b",
      "metadata": {
        "trusted": true
      },
      "outputs": [
        {
          "name": "stdout",
          "output_type": "stream",
          "text": [
            "                       2017\n",
            "Регион                     \n",
            "Российская Федерация  14.44\n",
            "БЕЛГОРОДСКАЯ ОБЛ.      9.83\n",
            "БРЯНСКАЯ ОБЛ.         12.46\n"
          ]
        }
      ],
      "source": [
        "data_2017 = pd.read_csv('https://video.ittensive.com/python-advanced/internet-2017.csv',\n",
        "                   na_values='NA', decimal=',', skiprows=1, names = ['Регион', '2017'], index_col='Регион')\n",
        "print(data_2017.head(3))"
      ]
    },
    {
      "cell_type": "code",
      "execution_count": 41,
      "id": "2d2e1861-65ee-4eaf-a8b4-3c71c38b1290",
      "metadata": {
        "trusted": true
      },
      "outputs": [
        {
          "name": "stdout",
          "output_type": "stream",
          "text": [
            "                       2018\n",
            "Регион                     \n",
            "Российская Федерация  16.53\n",
            "БЕЛГОРОДСКАЯ ОБЛ.     11.35\n",
            "БРЯНСКАЯ ОБЛ.         12.72\n"
          ]
        }
      ],
      "source": [
        "data_2018 = pd.read_csv('https://video.ittensive.com/python-advanced/internet-2018.csv',\n",
        "                   na_values='NA', decimal=',', skiprows=1, names = ['Регион', '2018'], index_col='Регион')\n",
        "print(data_2018.head(3))"
      ]
    },
    {
      "cell_type": "code",
      "execution_count": 42,
      "id": "7ac6477a-a93f-4c83-89bf-4687e11893ec",
      "metadata": {
        "trusted": true
      },
      "outputs": [
        {
          "name": "stdout",
          "output_type": "stream",
          "text": [
            "                       2017   2018\n",
            "Регион                            \n",
            "Российская Федерация  14.44  16.53\n",
            "БЕЛГОРОДСКАЯ ОБЛ.      9.83  11.35\n",
            "БРЯНСКАЯ ОБЛ.         12.46  12.72\n",
            "ВЛАДИМИРСКАЯ ОБЛ.     12.38  15.24\n",
            "ВОРОНЕЖСКАЯ  ОБЛ.     16.19  17.45\n"
          ]
        }
      ],
      "source": [
        "# объединим данные по общему индексу\n",
        "data = pd.merge(data_2017, data_2018, left_index=True, right_index=True)\n",
        "print(data.head())"
      ]
    },
    {
      "cell_type": "code",
      "execution_count": 43,
      "id": "ffa470c4-a3ea-485b-8dcb-c8c0f6510904",
      "metadata": {
        "trusted": true
      },
      "outputs": [
        {
          "name": "stdout",
          "output_type": "stream",
          "text": [
            "2017    12.647065\n",
            "2018    14.087500\n",
            "dtype: float64\n"
          ]
        }
      ],
      "source": [
        "# выведем график\n",
        "data.fillna(0, axis=1, inplace=True)  # заменим пропуски на 0 по строкам, замена значений в самих данных\n",
        "print(data.mean())"
      ]
    },
    {
      "cell_type": "code",
      "execution_count": 44,
      "id": "e2fb2988-c2ed-4ca2-b79f-2b00356ed3b0",
      "metadata": {
        "trusted": true
      },
      "outputs": [
        {
          "data": {
            "image/png": "[encoded data removed]",
            "text/plain": [
              "<Figure size 640x480 with 1 Axes>"
            ]
          },
          "metadata": {},
          "output_type": "display_data"
        }
      ],
      "source": [
        "# Выведем линейный график\n",
        "data.mean().plot.line()\n",
        "plt.show()"
      ]
    },
    {
      "cell_type": "markdown",
      "id": "8f493e97-b2d4-4b60-a8cd-a507efb28670",
      "metadata": {},
      "source": [
        "# Фильтрация данных без индексов"
      ]
    },
    {
      "cell_type": "code",
      "execution_count": 45,
      "id": "3ff7821e-a42a-47e4-8fcf-df2e2b55c900",
      "metadata": {
        "trusted": true
      },
      "outputs": [
        {
          "name": "stdout",
          "output_type": "stream",
          "text": [
            "                       2017\n",
            "Регион                     \n",
            "Российская Федерация  14.44\n",
            "БЕЛГОРОДСКАЯ ОБЛ.      9.83\n",
            "БРЯНСКАЯ ОБЛ.         12.46\n"
          ]
        }
      ],
      "source": [
        "data = pd.read_csv('https://video.ittensive.com/python-advanced/internet-2017.csv',\n",
        "                   na_values='NA', decimal=',', skiprows=1, names = ['Регион', '2017'], index_col='Регион')\n",
        "print(data.head(3))"
      ]
    },
    {
      "cell_type": "code",
      "execution_count": 46,
      "id": "78383a65-a5cd-48d1-8036-879fcb554811",
      "metadata": {
        "trusted": true
      },
      "outputs": [
        {
          "name": "stdout",
          "output_type": "stream",
          "text": [
            "Регион\n",
            "Российская Федерация          True\n",
            "БЕЛГОРОДСКАЯ ОБЛ.            False\n",
            "БРЯНСКАЯ ОБЛ.                 True\n",
            "ВЛАДИМИРСКАЯ ОБЛ.             True\n",
            "ВОРОНЕЖСКАЯ  ОБЛ.             True\n",
            "                             ...  \n",
            "САХАЛИНСКАЯ ОБЛ.              True\n",
            "ЕВРЕЙСКАЯ А.О.                True\n",
            "ЧУКОТСКИЙ А.О.               False\n",
            "Дальневосточный фед.округ     True\n",
            "РЕСПУБЛИКА КРЫМ              False\n",
            "Name: 2017, Length: 92, dtype: bool\n"
          ]
        }
      ],
      "source": [
        "print(data['2017'] > 10)"
      ]
    },
    {
      "cell_type": "code",
      "execution_count": 47,
      "id": "3b37302c-d3ea-430a-bbb7-3b7c630c68cb",
      "metadata": {
        "trusted": true
      },
      "outputs": [
        {
          "name": "stdout",
          "output_type": "stream",
          "text": [
            "                            2017\n",
            "Регион                          \n",
            "Российская Федерация       14.44\n",
            "БРЯНСКАЯ ОБЛ.              12.46\n",
            "ВЛАДИМИРСКАЯ ОБЛ.          12.38\n",
            "ВОРОНЕЖСКАЯ  ОБЛ.          16.19\n",
            "ИВАНОВСКАЯ ОБЛ.            10.50\n",
            "...                          ...\n",
            "КАМЧАТСКИЙ КРАЙ            11.29\n",
            "МАГАДАНСКАЯ ОБЛ.           16.65\n",
            "САХАЛИНСКАЯ ОБЛ.           13.01\n",
            "ЕВРЕЙСКАЯ А.О.             13.29\n",
            "Дальневосточный фед.округ  13.03\n",
            "\n",
            "[67 rows x 1 columns]\n"
          ]
        }
      ],
      "source": [
        "# больше 10\n",
        "data_more10 = data[data['2017'] > 10]\n",
        "print(data_more10)"
      ]
    },
    {
      "cell_type": "code",
      "execution_count": 48,
      "id": "5fce7749-ed51-4be8-83d0-cc5170776e50",
      "metadata": {
        "trusted": true
      },
      "outputs": [
        {
          "name": "stdout",
          "output_type": "stream",
          "text": [
            "                     2017\n",
            "Регион                   \n",
            "ИВАНОВСКАЯ ОБЛ.     10.50\n",
            "КУРСКАЯ ОБЛ.        10.48\n",
            "ОРЛОВСКАЯ ОБЛ.      11.76\n",
            "РЯЗАНСКАЯ ОБЛ.      10.58\n",
            "ТВЕРСКАЯ ОБЛ.       10.45\n",
            "КРАСНОДАРСКИЙ КРАЙ  11.43\n",
            "АСТРАХАНСКАЯ ОБЛ.   11.35\n",
            "Южный фед.округ     11.10\n",
            "ПЕНЗЕНСКАЯ ОБЛ.     11.46\n",
            "ПЕРМСКИЙ КРАЙ       10.37\n",
            "ИРКУТСКАЯ ОБЛ.      11.46\n",
            "ТОМСКАЯ ОБЛ.        11.68\n",
            "КАМЧАТСКИЙ КРАЙ     11.29\n"
          ]
        }
      ],
      "source": [
        "# больше 10, но менше 12\n",
        "data_more10_less12 = data[(data['2017'] > 10) & (data['2017'] < 12)]\n",
        "print(data_more10_less12)"
      ]
    },
    {
      "cell_type": "code",
      "execution_count": 49,
      "id": "28dab161-d35b-4a6b-b05a-d17c79494295",
      "metadata": {
        "trusted": true
      },
      "outputs": [
        {
          "name": "stdout",
          "output_type": "stream",
          "text": [
            "                 2017\n",
            "Регион               \n",
            "РЕСПУБЛИКА КРЫМ   NaN\n"
          ]
        }
      ],
      "source": [
        "# выведем все отсутствующие значения\n",
        "data_null = data[data['2017'].isnull()]\n",
        "print(data_null)"
      ]
    },
    {
      "cell_type": "code",
      "execution_count": 51,
      "id": "70fbc3f8-e18a-4021-b882-97871704523b",
      "metadata": {
        "trusted": true
      },
      "outputs": [
        {
          "name": "stdout",
          "output_type": "stream",
          "text": [
            "                            2017\n",
            "Регион                          \n",
            "Российская Федерация       14.44\n",
            "БЕЛГОРОДСКАЯ ОБЛ.           9.83\n",
            "БРЯНСКАЯ ОБЛ.              12.46\n",
            "ВЛАДИМИРСКАЯ ОБЛ.          12.38\n",
            "ВОРОНЕЖСКАЯ  ОБЛ.          16.19\n",
            "...                          ...\n",
            "МАГАДАНСКАЯ ОБЛ.           16.65\n",
            "САХАЛИНСКАЯ ОБЛ.           13.01\n",
            "ЕВРЕЙСКАЯ А.О.             13.29\n",
            "ЧУКОТСКИЙ А.О.              9.48\n",
            "Дальневосточный фед.округ  13.03\n",
            "\n",
            "[91 rows x 1 columns]\n"
          ]
        }
      ],
      "source": [
        "# Выведем все строки без нулей\n",
        "data.fillna(0, axis=1, inplace=True)\n",
        "data_notnull = data.loc[data.any(axis=1)]\n",
        "print(data_notnull)"
      ]
    },
    {
      "cell_type": "code",
      "execution_count": 52,
      "id": "c13d088e-e917-44f3-9176-abc09396b2ff",
      "metadata": {
        "trusted": true
      },
      "outputs": [
        {
          "name": "stdout",
          "output_type": "stream",
          "text": [
            "Empty DataFrame\n",
            "Columns: []\n",
            "Index: [Российская Федерация, БЕЛГОРОДСКАЯ ОБЛ., БРЯНСКАЯ ОБЛ., ВЛАДИМИРСКАЯ ОБЛ., ВОРОНЕЖСКАЯ  ОБЛ., ИВАНОВСКАЯ ОБЛ., КАЛУЖСКАЯ ОБЛ., КОСТРОМСКАЯ ОБЛ., КУРСКАЯ ОБЛ., ЛИПЕЦКАЯ ОБЛ., МОСКОВСКАЯ ОБЛ., ОРЛОВСКАЯ ОБЛ., РЯЗАНСКАЯ ОБЛ., СМОЛЕНСКАЯ ОБЛ., ТАМБОВСКАЯ ОБЛ., ТВЕРСКАЯ ОБЛ., ТУЛЬСКАЯ ОБЛ., ЯРОСЛАВСКАЯ ОБЛ., г.МОСКВА, Центральный фед.округ, РЕСП. КАРЕЛИЯ, РЕСП. КОМИ, АРХАНГЕЛЬСКАЯ ОБЛ., ВОЛОГОДСКАЯ ОБЛ., КАЛИНИНГРАДСКАЯ ОБЛ., ЛЕНИНГРАДСКАЯ ОБЛ., МУРМАНСКАЯ ОБЛ., НОВГОРОДСКАЯ ОБЛ., ПСКОВСКАЯ ОБЛ., г.САНКТ-ПЕТЕРБУРГ, Северо-Западный фед.округ, РЕСП. АДЫГЕЯ, РЕСП. КАЛМЫКИЯ, КРАСНОДАРСКИЙ КРАЙ, АСТРАХАНСКАЯ ОБЛ., ВОЛГОГРАДСКАЯ ОБЛ., РОСТОВСКАЯ ОБЛ., Южный фед.округ, РЕСП. ДАГЕСТАН, РЕСП.ИНГУШСКАЯ, КАБАРД.-БАЛКАР. РЕСП., КАРАЧ.-ЧЕРКЕСС. РЕСП., РЕСП.СЕВЕРНАЯ-ОСЕТИЯ, ЧЕЧЕНСКАЯ РЕСП., СТАВРОПОЛЬСКИЙ КРАЙ, Северо-Кавказский фед.округ, РЕСП.БАШКОРТОСТАН, РЕСП. МАРИЙ-ЭЛ, РЕСП. МОРДОВИЯ, РЕСП. ТАТАРСТАН, УДМУРТСКАЯ РЕСП., ЧУВАШСКАЯ РЕСП., КИРОВСКАЯ ОБЛ., НИЖЕГОРОДСКАЯ ОБЛ., ОРЕНБУРГСКАЯ ОБЛ., ПЕНЗЕНСКАЯ ОБЛ., ПЕРМСКИЙ КРАЙ, САМАРСКАЯ ОБЛ., САРАТОВСКАЯ ОБЛ., УЛЬЯНОВСКАЯ ОБЛ., Приволжский фед.округ, КУРГАНСКАЯ ОБЛ., СВЕРДЛОВСКАЯ ОБЛ., ТЮМЕНСКАЯ ОБЛ., ХАНТЫ-МАНСИЙСКИЙ АО, ЯМАЛО-НЕНЕЦКИЙ АО, ЧЕЛЯБИНСКАЯ ОБЛ., Уральский фед.округ, РЕСП. АЛТАЙ, РЕСП. БУРЯТИЯ, РЕСП. ТЫВА, РЕСП. ХАКАСИЯ, АЛТАЙСКИЙ КРАЙ, КРАСНОЯРСКИЙ КРАЙ, ИРКУТСКАЯ ОБЛ., КЕМЕРОВСКАЯ ОБЛ., НОВОСИБИРСКАЯ ОБЛ., ОМСКАЯ ОБЛ., ТОМСКАЯ ОБЛ., ЗАБАЙКАЛЬСКИЙ КРАЙ, Сибирский фед.округ, РЕСП. САХА (ЯКУТИЯ), ПРИМОРСКИЙ КРАЙ, ХАБАРОВСКИЙ КРАЙ, АМУРСКАЯ ОБЛ., КАМЧАТСКИЙ КРАЙ, МАГАДАНСКАЯ ОБЛ., САХАЛИНСКАЯ ОБЛ., ЕВРЕЙСКАЯ А.О., ЧУКОТСКИЙ А.О., Дальневосточный фед.округ, РЕСПУБЛИКА КРЫМ]\n",
            "\n",
            "[92 rows x 0 columns]\n"
          ]
        }
      ],
      "source": [
        "# Фильтрация по всем нулям\n",
        "data_filled = data.loc[:, data.all()]\n",
        "print(data_filled)"
      ]
    },
    {
      "cell_type": "code",
      "execution_count": 53,
      "id": "8512d862-7ec1-4c4a-9601-ca229d87886b",
      "metadata": {
        "trusted": true
      },
      "outputs": [
        {
          "name": "stdout",
          "output_type": "stream",
          "text": [
            "                            2017\n",
            "Регион                          \n",
            "Российская Федерация       14.44\n",
            "БЕЛГОРОДСКАЯ ОБЛ.           9.83\n",
            "БРЯНСКАЯ ОБЛ.              12.46\n",
            "ВЛАДИМИРСКАЯ ОБЛ.          12.38\n",
            "ВОРОНЕЖСКАЯ  ОБЛ.          16.19\n",
            "...                          ...\n",
            "САХАЛИНСКАЯ ОБЛ.           13.01\n",
            "ЕВРЕЙСКАЯ А.О.             13.29\n",
            "ЧУКОТСКИЙ А.О.              9.48\n",
            "Дальневосточный фед.округ  13.03\n",
            "РЕСПУБЛИКА КРЫМ             0.00\n",
            "\n",
            "[92 rows x 1 columns]\n"
          ]
        }
      ],
      "source": [
        "# удалим все нули\n",
        "data_notnull = data.dropna()\n",
        "print(data_notnull)"
      ]
    },
    {
      "cell_type": "markdown",
      "id": "7ef5210f-f1b0-428b-ac3f-ab5fc9760605",
      "metadata": {},
      "source": [
        "# Изменение фреймов"
      ]
    },
    {
      "cell_type": "code",
      "execution_count": 54,
      "id": "871f2376-544e-4b8c-9539-7cc574b44c99",
      "metadata": {
        "trusted": true
      },
      "outputs": [
        {
          "name": "stdout",
          "output_type": "stream",
          "text": [
            "                       int  frac\n",
            "Регион                          \n",
            "Российская Федерация  16.0  53.0\n",
            "БЕЛГОРОДСКАЯ ОБЛ.     11.0  35.0\n",
            "БРЯНСКАЯ ОБЛ.         12.0  72.0\n"
          ]
        }
      ],
      "source": [
        "data = pd.read_csv('https://video.ittensive.com/python-advanced/internet-2018.raw.csv',\n",
        "                   na_values='NA', skiprows=1, names = ['Регион', 'int', 'frac'], index_col='Регион')\n",
        "print(data.head(3))"
      ]
    },
    {
      "cell_type": "markdown",
      "id": "79c3ce92-ad07-4224-9992-34b93566fff8",
      "metadata": {},
      "source": [
        "Очистим данные и преобразуем к нормальному виду."
      ]
    },
    {
      "cell_type": "code",
      "execution_count": 55,
      "id": "8bd0996b-a797-426b-be5d-d26eb58c7e09",
      "metadata": {
        "trusted": true
      },
      "outputs": [
        {
          "name": "stdout",
          "output_type": "stream",
          "text": [
            "                       int  frac\n",
            "Регион                          \n",
            "Российская Федерация  16.0  0.53\n",
            "БЕЛГОРОДСКАЯ ОБЛ.     11.0  0.35\n",
            "БРЯНСКАЯ ОБЛ.         12.0  0.72\n"
          ]
        }
      ],
      "source": [
        "# У нас есть цела часть и дробная часть, которые разделены запятой в двух колонках. Разделим их.\n",
        "data['frac'] = data['frac'].apply(lambda n: n/100)\n",
        "print(data.head(3))"
      ]
    },
    {
      "cell_type": "markdown",
      "id": "e1403fc3-8fcd-41fe-ad1a-2f1bbfc677d6",
      "metadata": {},
      "source": [
        "При изменении индекса мы используем функцию map вместо apply"
      ]
    },
    {
      "cell_type": "code",
      "execution_count": 56,
      "id": "accaa0d5-a03b-4bfb-aee0-bd941332db3f",
      "metadata": {
        "trusted": true
      },
      "outputs": [
        {
          "name": "stdout",
          "output_type": "stream",
          "text": [
            "                       int  frac   2018\n",
            "Регион                                 \n",
            "Российская Федерация  16.0  0.53  16.53\n",
            "БЕЛГОРОДСКАЯ ОБЛ.     11.0  0.35  11.35\n",
            "БРЯНСКАЯ ОБЛ.         12.0  0.72  12.72\n"
          ]
        }
      ],
      "source": [
        "# Объединим столбцы и получим истинное значение (целую часть + дробную часть)\n",
        "data['2018'] = data['int'] + data['frac']\n",
        "print(data.head(3))"
      ]
    },
    {
      "cell_type": "code",
      "execution_count": 57,
      "id": "5c206c6e-5c39-42ed-95d2-2c169f30fb24",
      "metadata": {
        "trusted": true
      },
      "outputs": [
        {
          "name": "stdout",
          "output_type": "stream",
          "text": [
            "                       2018\n",
            "Регион                     \n",
            "Российская Федерация  16.53\n",
            "БЕЛГОРОДСКАЯ ОБЛ.     11.35\n",
            "БРЯНСКАЯ ОБЛ.         12.72\n"
          ]
        }
      ],
      "source": [
        "# Удалим ненужные столбцы\n",
        "data = data.drop(labels=['int', 'frac'], axis=1)\n",
        "print(data.head(3))"
      ]
    },
    {
      "cell_type": "code",
      "execution_count": 58,
      "id": "59386375-902e-4fe4-bebc-b399ae4a35d3",
      "metadata": {
        "trusted": true
      },
      "outputs": [],
      "source": [
        "# Или пресоберем данные\n",
        "data = pd.read_csv('https://video.ittensive.com/python-advanced/internet-2018.raw.csv',\n",
        "                   na_values='NA', skiprows=1, names = ['Регион', 'int', 'frac'], index_col='Регион')\n",
        "data['frac'] = data['frac'].apply(lambda n: n/100)\n",
        "data['2018'] = data['int'] + data['frac']"
      ]
    },
    {
      "cell_type": "code",
      "execution_count": 60,
      "id": "e7593a1a-527f-45a6-b26d-653ca00bdc29",
      "metadata": {
        "trusted": true
      },
      "outputs": [],
      "source": [
        "data = data.reset_index()\n",
        "data = pd.DataFrame({'Регион': data['Регион'], '2018': data['2018']})\n",
        "data = data.set_index('Регион')"
      ]
    },
    {
      "cell_type": "code",
      "execution_count": 61,
      "id": "34700cdb-c1ce-4d94-a2f4-359fc1863c75",
      "metadata": {
        "trusted": true
      },
      "outputs": [],
      "source": [
        "# Заполним пропущенные значения\n",
        "data_null = data[data['2018'].isnull()].fillna(0, axis=1)\n",
        "data_less5 = data[data['2018'] < 5]"
      ]
    },
    {
      "cell_type": "code",
      "execution_count": null,
      "id": "94578d10-9ee3-4aa2-bade-2686a81fd1b1",
      "metadata": {
        "trusted": true
      },
      "outputs": [],
      "source": [
        "# Объединим данные\n",
        "data_null_less5 = data_null.append(data_less5)\n",
        "print(data_null_less5)"
      ]
    },
    {
      "cell_type": "markdown",
      "id": "8690c030-4b9f-4d23-945b-2ea7fb8f14d3",
      "metadata": {},
      "source": [
        "# Лямбда-функции"
      ]
    },
    {
      "cell_type": "code",
      "execution_count": 63,
      "id": "b6a80cdd-290e-43ed-8b01-dfb395d4061a",
      "metadata": {
        "trusted": true
      },
      "outputs": [
        {
          "name": "stdout",
          "output_type": "stream",
          "text": [
            "5\n"
          ]
        }
      ],
      "source": [
        "# Функция\n",
        "def sum_2(x, y):\n",
        "    return x + y\n",
        "\n",
        "print(sum_2(2, 3))"
      ]
    },
    {
      "cell_type": "code",
      "execution_count": 64,
      "id": "5bb7c870-76ff-4b1c-ae70-80fcf21a326d",
      "metadata": {
        "trusted": true
      },
      "outputs": [
        {
          "name": "stdout",
          "output_type": "stream",
          "text": [
            "5\n"
          ]
        }
      ],
      "source": [
        "# Лямбда-функция\n",
        "l_sum_2 = lambda x, y: x + y\n",
        "print(l_sum_2(2, 3))"
      ]
    },
    {
      "cell_type": "code",
      "execution_count": 65,
      "id": "6c52a1ab-57ba-4bc2-a4ba-77b710b0c503",
      "metadata": {
        "trusted": true
      },
      "outputs": [
        {
          "name": "stdout",
          "output_type": "stream",
          "text": [
            "8\n"
          ]
        }
      ],
      "source": [
        "# Лямбда-функция\n",
        "l_sum_2_1 = lambda x = 3, y = 5: x + y\n",
        "print(l_sum_2_1())"
      ]
    },
    {
      "cell_type": "code",
      "execution_count": 66,
      "id": "e4f3b160-b9ac-49dc-849c-b49c8f9554be",
      "metadata": {
        "trusted": true
      },
      "outputs": [
        {
          "name": "stdout",
          "output_type": "stream",
          "text": [
            "                      2017\n",
            "Регион                    \n",
            "Российская Федерация     1\n",
            "БЕЛГОРОДСКАЯ ОБЛ.        0\n",
            "БРЯНСКАЯ ОБЛ.            1\n"
          ]
        }
      ],
      "source": [
        "data = pd.read_csv('https://video.ittensive.com/python-advanced/internet-2017.csv',\n",
        "                   na_values='NA', skiprows=1, names = ['Регион', '2017'], decimal=',', index_col='Регион')\n",
        "data.fillna(0, axis=1, inplace=True)\n",
        "data['2017'] = data['2017'].apply(lambda x: int(x//10))\n",
        "print(data.head(3))"
      ]
    },
    {
      "cell_type": "code",
      "execution_count": 67,
      "id": "f8b1deb6-efe9-44a4-a4e7-b186e5df5f60",
      "metadata": {
        "trusted": true
      },
      "outputs": [
        {
          "name": "stdout",
          "output_type": "stream",
          "text": [
            "                       Регион   2017\n",
            "0        Российская Федерация  14.44\n",
            "1           БЕЛГОРОДСКАЯ ОБЛ.   9.83\n",
            "2               БРЯНСКАЯ ОБЛ.  12.46\n",
            "3           ВЛАДИМИРСКАЯ ОБЛ.  12.38\n",
            "4           ВОРОНЕЖСКАЯ  ОБЛ.  16.19\n",
            "..                        ...    ...\n",
            "87           САХАЛИНСКАЯ ОБЛ.  13.01\n",
            "88             ЕВРЕЙСКАЯ А.О.  13.29\n",
            "89             ЧУКОТСКИЙ А.О.   9.48\n",
            "90  Дальневосточный фед.округ  13.03\n",
            "91            РЕСПУБЛИКА КРЫМ    NaN\n",
            "\n",
            "[92 rows x 2 columns]\n"
          ]
        },
        {
          "name": "stderr",
          "output_type": "stream",
          "text": [
            "C:\\Users\\mmd28\\AppData\\Local\\Temp\\ipykernel_8436\\576241796.py:6: FutureWarning: Series.__getitem__ treating keys as positions is deprecated. In a future version, integer keys will always be treated as labels (consistent with DataFrame behavior). To access a value by position, use `ser.iloc[pos]`\n",
            "  if x[0].find('МОСКВА') > -1:\n",
            "C:\\Users\\mmd28\\AppData\\Local\\Temp\\ipykernel_8436\\576241796.py:9: FutureWarning: Series.__getitem__ treating keys as positions is deprecated. In a future version, integer keys will always be treated as labels (consistent with DataFrame behavior). To access a value by position, use `ser.iloc[pos]`\n",
            "  return x[1]\n",
            "C:\\Users\\mmd28\\AppData\\Local\\Temp\\ipykernel_8436\\576241796.py:7: FutureWarning: Series.__getitem__ treating keys as positions is deprecated. In a future version, integer keys will always be treated as labels (consistent with DataFrame behavior). To access a value by position, use `ser.iloc[pos]`\n",
            "  return x[1]*5\n"
          ]
        }
      ],
      "source": [
        "# Возмем функцию\n",
        "data = pd.read_csv('https://video.ittensive.com/python-advanced/internet-2017.csv',\n",
        "                   na_values='NA', skiprows=1, names = ['Регион', '2017'], decimal=',')\n",
        "\n",
        "def findMoscow(x):\n",
        "    if x[0].find('МОСКВА') > -1:\n",
        "        return x[1]*5\n",
        "    else:\n",
        "        return x[1]\n",
        "\n",
        "data['2017'] = data.apply(findMoscow, axis=1)\n",
        "print(data)"
      ]
    },
    {
      "cell_type": "code",
      "execution_count": null,
      "id": "a519d727-984b-44ba-91aa-8486a1cbd8e6",
      "metadata": {
        "trusted": true
      },
      "outputs": [],
      "source": [
        "# Возмем функцию\n",
        "data = pd.read_csv('https://video.ittensive.com/python-advanced/internet-2017.csv',\n",
        "                   na_values='NA', skiprows=1, names = ['Регион', '2017'], decimal=',')\n",
        "\n",
        "def findMoscow(x):\n",
        "    if x[0].find('МОСКВА') > -1:\n",
        "        return [x[0], x[1]*5]\n",
        "    else:\n",
        "        return x\n",
        "\n",
        "data['2017'] = data.apply(findMoscow, axis=1, result_type='expand')\n",
        "print(data)"
      ]
    }
  ],
  "metadata": {
    "kernelspec": {
      "display_name": "Python 3",
      "language": "python",
      "name": "python3"
    },
    "language_info": {
      "codemirror_mode": {
        "name": "ipython",
        "version": 3
      },
      "file_extension": ".py",
      "mimetype": "text/x-python",
      "name": "python",
      "nbconvert_exporter": "python",
      "pygments_lexer": "ipython3",
      "version": "3.13.0"
    }
  },
  "nbformat": 4,
  "nbformat_minor": 5
}
